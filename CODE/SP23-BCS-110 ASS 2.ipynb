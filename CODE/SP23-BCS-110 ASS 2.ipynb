{
  "nbformat": 4,
  "nbformat_minor": 0,
  "metadata": {
    "colab": {
      "provenance": [],
      "gpuType": "T4"
    },
    "kernelspec": {
      "name": "python3",
      "display_name": "Python 3"
    },
    "language_info": {
      "name": "python"
    },
    "accelerator": "GPU"
  },
  "cells": [
    {
      "cell_type": "code",
      "execution_count": null,
      "metadata": {
        "colab": {
          "base_uri": "https://localhost:8080/",
          "height": 401
        },
        "id": "G2OhZLYURiNw",
        "outputId": "480702f2-21af-433a-952e-fc3c58fd6b36"
      },
      "outputs": [
        {
          "output_type": "error",
          "ename": "ModuleNotFoundError",
          "evalue": "No module named 'pycuda'",
          "traceback": [
            "\u001b[0;31m---------------------------------------------------------------------------\u001b[0m",
            "\u001b[0;31mModuleNotFoundError\u001b[0m                       Traceback (most recent call last)",
            "\u001b[0;32m/tmp/ipython-input-3293581880.py\u001b[0m in \u001b[0;36m<cell line: 0>\u001b[0;34m()\u001b[0m\n\u001b[0;32m----> 1\u001b[0;31m \u001b[0;32mimport\u001b[0m \u001b[0mpycuda\u001b[0m\u001b[0;34m.\u001b[0m\u001b[0mdriver\u001b[0m \u001b[0;32mas\u001b[0m \u001b[0mdriver\u001b[0m\u001b[0;34m\u001b[0m\u001b[0;34m\u001b[0m\u001b[0m\n\u001b[0m\u001b[1;32m      2\u001b[0m \u001b[0;32mimport\u001b[0m \u001b[0mpycuda\u001b[0m\u001b[0;34m.\u001b[0m\u001b[0mautoinit\u001b[0m\u001b[0;34m\u001b[0m\u001b[0;34m\u001b[0m\u001b[0m\n\u001b[1;32m      3\u001b[0m \u001b[0;32mfrom\u001b[0m \u001b[0mpycuda\u001b[0m\u001b[0;34m.\u001b[0m\u001b[0mcompiler\u001b[0m \u001b[0;32mimport\u001b[0m \u001b[0mSourceModule\u001b[0m\u001b[0;34m\u001b[0m\u001b[0;34m\u001b[0m\u001b[0m\n\u001b[1;32m      4\u001b[0m \u001b[0;34m\u001b[0m\u001b[0m\n\u001b[1;32m      5\u001b[0m mod = SourceModule(\"\"\"\n",
            "\u001b[0;31mModuleNotFoundError\u001b[0m: No module named 'pycuda'",
            "",
            "\u001b[0;31m---------------------------------------------------------------------------\u001b[0;32m\nNOTE: If your import is failing due to a missing package, you can\nmanually install dependencies using either !pip or !apt.\n\nTo view examples of installing some common dependencies, click the\n\"Open Examples\" button below.\n\u001b[0;31m---------------------------------------------------------------------------\u001b[0m\n"
          ],
          "errorDetails": {
            "actions": [
              {
                "action": "open_url",
                "actionText": "Open Examples",
                "url": "/notebooks/snippets/importing_libraries.ipynb"
              }
            ]
          }
        }
      ],
      "source": [
        "import pycuda.driver as driver\n",
        "import pycuda.autoinit\n",
        "from pycuda.compiler import SourceModule\n",
        "\n",
        "mod = SourceModule(\"\"\"\n",
        "  __global__ void hello_thread()\n",
        "  {\n",
        "    int tid = threadIdx.x + blockIdx.x * blockDim.x;\n",
        "    printf(\"Hello from thread %d\\n\", tid);\n",
        "  }\n",
        "\n",
        "\"\"\")\n",
        "\n",
        "func = mod.get_function(\"hello_thread\")\n",
        "func(block=(4,1,1), grid=(2,1))\n",
        "drv.Context.synchronize()"
      ]
    },
    {
      "cell_type": "code",
      "source": [
        "import cupy as cp\n",
        "\n",
        "# Compile CUDA source into a RawModule\n",
        "mod = cp.RawModule(code=r'''\n",
        "extern \"C\" __global__\n",
        "void hello_kernel() {\n",
        "    int tid = threadIdx.x + blockIdx.x * blockDim.x;\n",
        "    printf(\"Hello from thread %d\\n\", tid);\n",
        "}\n",
        "''')\n",
        "\n",
        "# Get the kernel\n",
        "hello_kernel = mod.get_function(\"hello_kernel\")\n",
        "\n",
        "# Launch with grid=2, block=4\n",
        "hello_kernel((2,), (4,), ())   # note the empty args tuple\n",
        "cp.cuda.runtime.deviceSynchronize()  # flush printf output"
      ],
      "metadata": {
        "id": "BWmQYTTeVFMV"
      },
      "execution_count": null,
      "outputs": []
    },
    {
      "cell_type": "code",
      "source": [
        "import pycuda.driver as driver\n",
        "import pycuda.autoinit\n",
        "from pycuda.compiler import SourceModule\n",
        "\n",
        "mod = SourceModule(\"\"\"\n",
        "  __global__ void hello_thread()\n",
        "  {\n",
        "    int tid = threadIdx.x + blockIdx.x * blockDim.x;\n",
        "    printf(\"Hello from thread %d\\n\", tid);\n",
        "  }\n",
        "\n",
        "\"\"\")\n",
        "\n",
        "func = mod.get_function(\"hello_thread\")\n",
        "func(block=(4,1,1), grid=(2,1))"
      ],
      "metadata": {
        "colab": {
          "base_uri": "https://localhost:8080/",
          "height": 956
        },
        "id": "pbyVeyNlWOGK",
        "outputId": "6db461d4-abfd-4024-ac3f-eeb4ffcd0631"
      },
      "execution_count": null,
      "outputs": [
        {
          "output_type": "error",
          "ename": "CompileError",
          "evalue": "nvcc compilation of /tmp/tmp897lg2qb/kernel.cu failed\n[command: nvcc --cubin -arch sm_75 -I/usr/local/lib/python3.12/dist-packages/pycuda/cuda kernel.cu]\n[stderr:\nkernel.cu:6:12: warning: missing terminating \" character\n    6 |     printf(\"Hello from thread %d\n      |            ^\nkernel.cu:7:1: warning: missing terminating \" character\n    7 | \", tid);\n      | ^\nkernel.cu(6): error: missing closing quote\n      printf(\"Hello from thread %d\n             ^\n\nkernel.cu(7): error: missing closing quote\n  \", tid);\n  ^\n\nkernel.cu(8): error: expected a \")\"\n    }\n    ^\n\nkernel.cu(8): error: expected a \";\"\n    }\n    ^\n\nkernel.cu(5): warning #177-D: variable \"tid\" was declared but never referenced\n      int tid = threadIdx.x + blockIdx.x * blockDim.x;\n          ^\n\nRemark: The warnings can be suppressed with \"-diag-suppress <warning-number>\"\n\n4 errors detected in the compilation of \"kernel.cu\".\n]",
          "traceback": [
            "\u001b[0;31m---------------------------------------------------------------------------\u001b[0m",
            "\u001b[0;31mCompileError\u001b[0m                              Traceback (most recent call last)",
            "\u001b[0;32m/tmp/ipython-input-3243934135.py\u001b[0m in \u001b[0;36m<cell line: 0>\u001b[0;34m()\u001b[0m\n\u001b[1;32m      3\u001b[0m \u001b[0;32mfrom\u001b[0m \u001b[0mpycuda\u001b[0m\u001b[0;34m.\u001b[0m\u001b[0mcompiler\u001b[0m \u001b[0;32mimport\u001b[0m \u001b[0mSourceModule\u001b[0m\u001b[0;34m\u001b[0m\u001b[0;34m\u001b[0m\u001b[0m\n\u001b[1;32m      4\u001b[0m \u001b[0;34m\u001b[0m\u001b[0m\n\u001b[0;32m----> 5\u001b[0;31m mod = SourceModule(\"\"\"\n\u001b[0m\u001b[1;32m      6\u001b[0m   \u001b[0m__global__\u001b[0m \u001b[0mvoid\u001b[0m \u001b[0mhello_thread\u001b[0m\u001b[0;34m(\u001b[0m\u001b[0;34m)\u001b[0m\u001b[0;34m\u001b[0m\u001b[0;34m\u001b[0m\u001b[0m\n\u001b[1;32m      7\u001b[0m   {\n",
            "\u001b[0;32m/usr/local/lib/python3.12/dist-packages/pycuda/compiler.py\u001b[0m in \u001b[0;36m__init__\u001b[0;34m(self, source, nvcc, options, keep, no_extern_c, arch, code, cache_dir, include_dirs)\u001b[0m\n\u001b[1;32m    346\u001b[0m         \u001b[0mself\u001b[0m\u001b[0;34m.\u001b[0m\u001b[0m_check_arch\u001b[0m\u001b[0;34m(\u001b[0m\u001b[0march\u001b[0m\u001b[0;34m)\u001b[0m\u001b[0;34m\u001b[0m\u001b[0;34m\u001b[0m\u001b[0m\n\u001b[1;32m    347\u001b[0m \u001b[0;34m\u001b[0m\u001b[0m\n\u001b[0;32m--> 348\u001b[0;31m         cubin = compile(\n\u001b[0m\u001b[1;32m    349\u001b[0m             \u001b[0msource\u001b[0m\u001b[0;34m,\u001b[0m\u001b[0;34m\u001b[0m\u001b[0;34m\u001b[0m\u001b[0m\n\u001b[1;32m    350\u001b[0m             \u001b[0mnvcc\u001b[0m\u001b[0;34m,\u001b[0m\u001b[0;34m\u001b[0m\u001b[0;34m\u001b[0m\u001b[0m\n",
            "\u001b[0;32m/usr/local/lib/python3.12/dist-packages/pycuda/compiler.py\u001b[0m in \u001b[0;36mcompile\u001b[0;34m(source, nvcc, options, keep, no_extern_c, arch, code, cache_dir, include_dirs, target)\u001b[0m\n\u001b[1;32m    293\u001b[0m         \u001b[0moptions\u001b[0m\u001b[0;34m.\u001b[0m\u001b[0mappend\u001b[0m\u001b[0;34m(\u001b[0m\u001b[0;34m\"-I\"\u001b[0m \u001b[0;34m+\u001b[0m \u001b[0mi\u001b[0m\u001b[0;34m)\u001b[0m\u001b[0;34m\u001b[0m\u001b[0;34m\u001b[0m\u001b[0m\n\u001b[1;32m    294\u001b[0m \u001b[0;34m\u001b[0m\u001b[0m\n\u001b[0;32m--> 295\u001b[0;31m     \u001b[0;32mreturn\u001b[0m \u001b[0mcompile_plain\u001b[0m\u001b[0;34m(\u001b[0m\u001b[0msource\u001b[0m\u001b[0;34m,\u001b[0m \u001b[0moptions\u001b[0m\u001b[0;34m,\u001b[0m \u001b[0mkeep\u001b[0m\u001b[0;34m,\u001b[0m \u001b[0mnvcc\u001b[0m\u001b[0;34m,\u001b[0m \u001b[0mcache_dir\u001b[0m\u001b[0;34m,\u001b[0m \u001b[0mtarget\u001b[0m\u001b[0;34m)\u001b[0m\u001b[0;34m\u001b[0m\u001b[0;34m\u001b[0m\u001b[0m\n\u001b[0m\u001b[1;32m    296\u001b[0m \u001b[0;34m\u001b[0m\u001b[0m\n\u001b[1;32m    297\u001b[0m \u001b[0;34m\u001b[0m\u001b[0m\n",
            "\u001b[0;32m/usr/local/lib/python3.12/dist-packages/pycuda/compiler.py\u001b[0m in \u001b[0;36mcompile_plain\u001b[0;34m(source, options, keep, nvcc, cache_dir, target)\u001b[0m\n\u001b[1;32m    148\u001b[0m         \u001b[0;32mfrom\u001b[0m \u001b[0mpycuda\u001b[0m\u001b[0;34m.\u001b[0m\u001b[0mdriver\u001b[0m \u001b[0;32mimport\u001b[0m \u001b[0mCompileError\u001b[0m\u001b[0;34m\u001b[0m\u001b[0;34m\u001b[0m\u001b[0m\n\u001b[1;32m    149\u001b[0m \u001b[0;34m\u001b[0m\u001b[0m\n\u001b[0;32m--> 150\u001b[0;31m         raise CompileError(\n\u001b[0m\u001b[1;32m    151\u001b[0m             \u001b[0;34m\"nvcc compilation of %s failed\"\u001b[0m \u001b[0;34m%\u001b[0m \u001b[0mcu_file_path\u001b[0m\u001b[0;34m,\u001b[0m\u001b[0;34m\u001b[0m\u001b[0;34m\u001b[0m\u001b[0m\n\u001b[1;32m    152\u001b[0m             \u001b[0mcmdline\u001b[0m\u001b[0;34m,\u001b[0m\u001b[0;34m\u001b[0m\u001b[0;34m\u001b[0m\u001b[0m\n",
            "\u001b[0;31mCompileError\u001b[0m: nvcc compilation of /tmp/tmp897lg2qb/kernel.cu failed\n[command: nvcc --cubin -arch sm_75 -I/usr/local/lib/python3.12/dist-packages/pycuda/cuda kernel.cu]\n[stderr:\nkernel.cu:6:12: warning: missing terminating \" character\n    6 |     printf(\"Hello from thread %d\n      |            ^\nkernel.cu:7:1: warning: missing terminating \" character\n    7 | \", tid);\n      | ^\nkernel.cu(6): error: missing closing quote\n      printf(\"Hello from thread %d\n             ^\n\nkernel.cu(7): error: missing closing quote\n  \", tid);\n  ^\n\nkernel.cu(8): error: expected a \")\"\n    }\n    ^\n\nkernel.cu(8): error: expected a \";\"\n    }\n    ^\n\nkernel.cu(5): warning #177-D: variable \"tid\" was declared but never referenced\n      int tid = threadIdx.x + blockIdx.x * blockDim.x;\n          ^\n\nRemark: The warnings can be suppressed with \"-diag-suppress <warning-number>\"\n\n4 errors detected in the compilation of \"kernel.cu\".\n]"
          ]
        }
      ]
    },
    {
      "cell_type": "code",
      "source": [
        "import cupy as cp\n",
        "\n",
        "# Define CUDA kernel\n",
        "mod = cp.RawModule(code=r'''\n",
        "extern \"C\" __global__\n",
        "void hello_kernel() {\n",
        "    int tid = threadIdx.x + blockIdx.x * blockDim.x;\n",
        "    printf(\"Hello from thread %d\\n\", tid);\n",
        "}\n",
        "''')\n",
        "\n",
        "# Get the kernel from the module\n",
        "hello_kernel = mod.get_function(\"hello_kernel\")\n",
        "\n",
        "# Launch kernel with 2 blocks of 4 threads = 8 threads total\n",
        "hello_kernel((2,), (4,), ())   # grid=(2,), block=(4,), no args\n",
        "cp.cuda.runtime.deviceSynchronize()  # flush printf output"
      ],
      "metadata": {
        "id": "QcL3azE5WZeI"
      },
      "execution_count": null,
      "outputs": []
    },
    {
      "cell_type": "code",
      "source": [
        "!pip install pycuda"
      ],
      "metadata": {
        "colab": {
          "base_uri": "https://localhost:8080/"
        },
        "id": "Z7FaNVRBWplw",
        "outputId": "ea95b422-a9cb-4509-abdc-ebec48dfa2ed"
      },
      "execution_count": null,
      "outputs": [
        {
          "output_type": "stream",
          "name": "stdout",
          "text": [
            "Collecting pycuda\n",
            "  Downloading pycuda-2025.1.2.tar.gz (1.7 MB)\n",
            "\u001b[2K     \u001b[90m━━━━━━━━━━━━━━━━━━━━━━━━━━━━━━━━━━━━━━━━\u001b[0m \u001b[32m1.7/1.7 MB\u001b[0m \u001b[31m73.2 MB/s\u001b[0m eta \u001b[36m0:00:00\u001b[0m\n",
            "\u001b[?25h  Installing build dependencies ... \u001b[?25l\u001b[?25hdone\n",
            "  Getting requirements to build wheel ... \u001b[?25l\u001b[?25hdone\n",
            "  Preparing metadata (pyproject.toml) ... \u001b[?25l\u001b[?25hdone\n",
            "Collecting pytools>=2011.2 (from pycuda)\n",
            "  Downloading pytools-2025.2.4-py3-none-any.whl.metadata (2.9 kB)\n",
            "Requirement already satisfied: platformdirs>=2.2.0 in /usr/local/lib/python3.12/dist-packages (from pycuda) (4.4.0)\n",
            "Requirement already satisfied: mako in /usr/local/lib/python3.12/dist-packages (from pycuda) (1.3.10)\n",
            "Collecting siphash24>=1.6 (from pytools>=2011.2->pycuda)\n",
            "  Downloading siphash24-1.8-cp312-cp312-manylinux2014_x86_64.manylinux_2_17_x86_64.manylinux_2_28_x86_64.whl.metadata (3.2 kB)\n",
            "Requirement already satisfied: typing-extensions>=4.5 in /usr/local/lib/python3.12/dist-packages (from pytools>=2011.2->pycuda) (4.15.0)\n",
            "Requirement already satisfied: MarkupSafe>=0.9.2 in /usr/local/lib/python3.12/dist-packages (from mako->pycuda) (3.0.2)\n",
            "Downloading pytools-2025.2.4-py3-none-any.whl (99 kB)\n",
            "\u001b[2K   \u001b[90m━━━━━━━━━━━━━━━━━━━━━━━━━━━━━━━━━━━━━━━━\u001b[0m \u001b[32m99.4/99.4 kB\u001b[0m \u001b[31m11.0 MB/s\u001b[0m eta \u001b[36m0:00:00\u001b[0m\n",
            "\u001b[?25hDownloading siphash24-1.8-cp312-cp312-manylinux2014_x86_64.manylinux_2_17_x86_64.manylinux_2_28_x86_64.whl (103 kB)\n",
            "\u001b[2K   \u001b[90m━━━━━━━━━━━━━━━━━━━━━━━━━━━━━━━━━━━━━━━━\u001b[0m \u001b[32m103.2/103.2 kB\u001b[0m \u001b[31m11.1 MB/s\u001b[0m eta \u001b[36m0:00:00\u001b[0m\n",
            "\u001b[?25hBuilding wheels for collected packages: pycuda\n",
            "  Building wheel for pycuda (pyproject.toml) ... \u001b[?25l\u001b[?25hdone\n",
            "  Created wheel for pycuda: filename=pycuda-2025.1.2-cp312-cp312-linux_x86_64.whl size=659050 sha256=9b457078120475c636ab2c2d31429088b984defbf9143af67ee766d7b114e0ff\n",
            "  Stored in directory: /root/.cache/pip/wheels/d5/36/f3/ac5f09d768cad3fa15d5a3449bdfe65c3de58e69d036c73228\n",
            "Successfully built pycuda\n",
            "Installing collected packages: siphash24, pytools, pycuda\n",
            "Successfully installed pycuda-2025.1.2 pytools-2025.2.4 siphash24-1.8\n"
          ]
        }
      ]
    },
    {
      "cell_type": "code",
      "source": [
        "import pycuda.autoinit\n",
        "import pycuda.driver as drv\n",
        "from pycuda.compiler import SourceModule\n",
        "import numpy as np\n",
        "\n",
        "mod = SourceModule(\"\"\"\n",
        "__global__ void hello_thread(int *out)\n",
        "{\n",
        "    int tid = threadIdx.x + blockIdx.x * blockDim.x;\n",
        "    out[tid] = tid;\n",
        "}\n",
        "\"\"\")\n",
        "\n",
        "hello_thread = mod.get_function(\"hello_thread\")\n",
        "\n",
        "nthreads = 8\n",
        "out_gpu = drv.mem_alloc(nthreads * np.int32().nbytes)\n",
        "\n",
        "hello_thread(out_gpu, block=(4,1,1), grid=(2,1,1))\n",
        "\n",
        "out_host = np.empty(nthreads, dtype=np.int32)\n",
        "drv.memcpy_dtoh(out_host, out_gpu)\n",
        "\n",
        "for tid in out_host:\n",
        "    print(f\"Hello from thread {tid}\")\n"
      ],
      "metadata": {
        "colab": {
          "base_uri": "https://localhost:8080/"
        },
        "id": "koAzwaKdXqj6",
        "outputId": "b5969ede-4cac-4e4e-e6f2-d815de40ff6b"
      },
      "execution_count": null,
      "outputs": [
        {
          "output_type": "stream",
          "name": "stdout",
          "text": [
            "Hello from thread 0\n",
            "Hello from thread 1\n",
            "Hello from thread 2\n",
            "Hello from thread 3\n",
            "Hello from thread 4\n",
            "Hello from thread 5\n",
            "Hello from thread 6\n",
            "Hello from thread 7\n"
          ]
        }
      ]
    },
    {
      "cell_type": "code",
      "source": [
        "import cupy as cp\n",
        "import time\n",
        "\n",
        "n = 10_000_000\n",
        "a = cp.arange(n, dtype=cp.float32)\n",
        "b = cp.arange(n, dtype=cp.float32)\n",
        "\n",
        "start = time.time()\n",
        "c = a + b\n",
        "cp.cuda.runtime.deviceSynchronize()\n",
        "end = time.time()\n",
        "\n",
        "print(\"Time taken:\", end - start, \"seconds\")"
      ],
      "metadata": {
        "colab": {
          "base_uri": "https://localhost:8080/"
        },
        "id": "ttbl2GyWadM5",
        "outputId": "53d2772b-3251-44a2-871a-202fbe5d25bb"
      },
      "execution_count": null,
      "outputs": [
        {
          "output_type": "stream",
          "name": "stdout",
          "text": [
            "First 5 results: [0. 2. 4. 6. 8.]\n",
            "Time taken: 0.0006968975067138672 seconds\n"
          ]
        }
      ]
    },
    {
      "cell_type": "code",
      "source": [
        "import time\n",
        "\n",
        "n = 10_000_000\n",
        "\n",
        "a = list(range(n))\n",
        "b = list(range(n))\n",
        "\n",
        "start = time.time()\n",
        "\n",
        "for i in range(n):\n",
        "  c = [a[i] + b[i]]\n",
        "end = time.time()\n",
        "\n",
        "print(\"Time taken:\", end - start, \"seconds\")"
      ],
      "metadata": {
        "colab": {
          "base_uri": "https://localhost:8080/"
        },
        "id": "VSzN3X0sai-z",
        "outputId": "0e55db21-3800-437b-cf2a-caaf2d1ca724"
      },
      "execution_count": null,
      "outputs": [
        {
          "output_type": "stream",
          "name": "stdout",
          "text": [
            "Time taken: 1.906116008758545 seconds\n"
          ]
        }
      ]
    },
    {
      "cell_type": "code",
      "source": [],
      "metadata": {
        "id": "rXLg3cZggSSU"
      },
      "execution_count": null,
      "outputs": []
    },
    {
      "cell_type": "code",
      "source": [
        "import cupy as cp\n",
        "import numpy as np\n",
        "import time\n",
        "\n",
        "image_matrix = np.random.randint(0, 256, (4096, 4096), dtype=np.uint8)\n",
        "\n",
        "d_image = cp.array(image_matrix)\n",
        "\n",
        "start = time.time()\n",
        "\n",
        "d_image = 255 - d_image\n",
        "\n",
        "cp.cuda.runtime.deviceSynchronize()\n",
        "end = time.time()\n",
        "\n",
        "inverted = cp.asnumpy(d_image)\n",
        "\n",
        "print(\"Original:\\n\", image_matrix)\n",
        "print(\"Inverted:\\n\", inverted)\n",
        "print(\"Execution time:\", end - start, \"seconds\")"
      ],
      "metadata": {
        "colab": {
          "base_uri": "https://localhost:8080/"
        },
        "id": "1-OQKp7whct4",
        "outputId": "4ded6f28-7309-489e-9e91-7a1a9167c93e"
      },
      "execution_count": null,
      "outputs": [
        {
          "output_type": "stream",
          "name": "stdout",
          "text": [
            "Original:\n",
            " [[ 45 126  19 ...  90   8 249]\n",
            " [ 38 167  53 ...  22  85 230]\n",
            " [200 131 247 ... 155 227 163]\n",
            " ...\n",
            " [125  87 236 ...  13 234 171]\n",
            " [176  84  82 ... 119 165 237]\n",
            " [ 57  14 114 ...  59  42   1]]\n",
            "Inverted:\n",
            " [[210 129 236 ... 165 247   6]\n",
            " [217  88 202 ... 233 170  25]\n",
            " [ 55 124   8 ... 100  28  92]\n",
            " ...\n",
            " [130 168  19 ... 242  21  84]\n",
            " [ 79 171 173 ... 136  90  18]\n",
            " [198 241 141 ... 196 213 254]]\n",
            "Execution time: 0.0022580623626708984 seconds\n"
          ]
        }
      ]
    },
    {
      "cell_type": "code",
      "source": [
        "import numpy as np\n",
        "import time\n",
        "\n",
        "# Create random image\n",
        "image_matrix = np.random.randint(0, 256, (4096, 4096), dtype=np.uint8)\n",
        "\n",
        "# Measure time\n",
        "start = time.time()\n",
        "\n",
        "# Invert image (elementwise)\n",
        "inverted = 255 - image_matrix\n",
        "\n",
        "end = time.time()\n",
        "\n",
        "print(\"Original:\\n\", image_matrix)\n",
        "print(\"Inverted:\\n\", inverted)\n",
        "print(\"Execution time:\", end - start, \"seconds\")"
      ],
      "metadata": {
        "colab": {
          "base_uri": "https://localhost:8080/"
        },
        "id": "xT0fZctEinCu",
        "outputId": "22c7bb8e-63f2-4769-b9cf-87e28ee16808"
      },
      "execution_count": null,
      "outputs": [
        {
          "output_type": "stream",
          "name": "stdout",
          "text": [
            "Original:\n",
            " [[ 75 167  98 ... 114 239 161]\n",
            " [239  33 134 ... 100 172  72]\n",
            " [200 149  72 ... 150  49 145]\n",
            " ...\n",
            " [ 19 180 223 ...  89 123  96]\n",
            " [135  83 153 ... 234 205  31]\n",
            " [120  20 208 ... 161 236 109]]\n",
            "Inverted:\n",
            " [[180  88 157 ... 141  16  94]\n",
            " [ 16 222 121 ... 155  83 183]\n",
            " [ 55 106 183 ... 105 206 110]\n",
            " ...\n",
            " [236  75  32 ... 166 132 159]\n",
            " [120 172 102 ...  21  50 224]\n",
            " [135 235  47 ...  94  19 146]]\n",
            "Execution time: 0.004038572311401367 seconds\n"
          ]
        }
      ]
    }
  ]
}