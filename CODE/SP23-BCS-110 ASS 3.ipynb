{
  "nbformat": 4,
  "nbformat_minor": 0,
  "metadata": {
    "colab": {
      "provenance": [],
      "gpuType": "T4"
    },
    "kernelspec": {
      "name": "python3",
      "display_name": "Python 3"
    },
    "language_info": {
      "name": "python"
    },
    "accelerator": "GPU"
  },
  "cells": [
    {
      "cell_type": "code",
      "source": [
        "import numpy as np\n",
        "import cupy as cp"
      ],
      "metadata": {
        "id": "n1mP2B3fufHh"
      },
      "execution_count": null,
      "outputs": []
    },
    {
      "cell_type": "code",
      "source": [],
      "metadata": {
        "id": "16KdUEU49A_S"
      },
      "execution_count": null,
      "outputs": []
    },
    {
      "cell_type": "code",
      "execution_count": null,
      "metadata": {
        "colab": {
          "base_uri": "https://localhost:8080/"
        },
        "id": "SsMgVfXztX17",
        "outputId": "d2a16773-5fda-4dc6-ce1c-23abfb329611"
      },
      "outputs": [
        {
          "output_type": "stream",
          "name": "stdout",
          "text": [
            "Element wise addition :  [ 0  3  4  6  8 10 12 14 16 18 20 22 24 26 28 30 32 34 36 38]\n",
            "Element wise square :  [   0    9   16   36   64  100  144  196  256  324  400  484  576  676\n",
            "  784  900 1024 1156 1296 1444]\n"
          ]
        }
      ],
      "source": [
        "kernal_1 = cp.RawKernel(r'''\n",
        "extern \"C\" __global__\n",
        "void add1(int* a, int* b, int* c, int n){\n",
        "   int i = blockDim.x * blockIdx.x + threadIdx.x;\n",
        "    if (i < n) {\n",
        "      c[i] = a[i] + b[i];\n",
        "    }\n",
        "}''', 'add1')\n",
        "\n",
        "kernal_2 = cp.RawKernel(r'''\n",
        "extern \"C\" __global__\n",
        "void add2(int* c, int* d, int n){\n",
        "   int i = blockDim.x * blockIdx.x + threadIdx.x;\n",
        "    if (i < n) {\n",
        "      d[i] = c[i] * c[i];\n",
        "    }\n",
        "}''', 'add2')\n",
        "\n",
        "\n",
        "i = 1\n",
        "n = 1024\n",
        "thread_per_block = 256\n",
        "block_per_grid = (n + thread_per_block - 1) // thread_per_block\n",
        "\n",
        "a_np = np.arange(n, dtype=cp.int32)    #allocating a in cpu(host) memory.\n",
        "b_np = np.arange(n, dtype=cp.int32)\n",
        "\n",
        "a = cp.asarray(a_np)                   #allocation in gpu(device) memory.\n",
        "b = cp.asarray(b_np)\n",
        "c = cp.empty_like(a)\n",
        "d = cp.empty_like(a)\n",
        "\n",
        "a[i] = i\n",
        "b[i] = 2*i\n",
        "\n",
        "#kernal_1((block_per_grid, ), (thread_per_block, ), (a, b, c, n))\n",
        "#kernal_2((block_per_grid, ), (thread_per_block, ), (c, d, n))\n",
        "\n",
        "stream_1 = cp.cuda.Stream()\n",
        "stream_2 = cp.cuda.Stream()\n",
        "\n",
        "with stream_1:\n",
        "  kernal_1((1, ), (n, ), (a, b, c, n))\n",
        "\n",
        "with stream_2:\n",
        "  kernal_2((int(n/32), ), (32, ), (c, d, n))\n",
        "\n",
        "stream_1.synchronize()\n",
        "stream_2.synchronize()\n",
        "\n",
        "\n",
        "c_cpu = c.get()\n",
        "print(\"Element wise addition : \", c_cpu[:20])\n",
        "\n",
        "d_cpu = d.get()                        #to transfer back to cpu from gpu we use get()\n",
        "print(\"Element wise square : \", d_cpu[:20])\n",
        "\n",
        "\n",
        "\n",
        "\n",
        "\n",
        "\n",
        "\n",
        "\n",
        "\n",
        "\n",
        "\n"
      ]
    },
    {
      "cell_type": "code",
      "source": [
        "i_cp = i.get()\n",
        "print(i_cp)"
      ],
      "metadata": {
        "colab": {
          "base_uri": "https://localhost:8080/",
          "height": 165
        },
        "id": "Rxtdx5dXF7V_",
        "outputId": "681bebe5-b060-4723-9447-623f656494e6"
      },
      "execution_count": null,
      "outputs": [
        {
          "output_type": "error",
          "ename": "AttributeError",
          "evalue": "'int' object has no attribute 'get'",
          "traceback": [
            "\u001b[0;31m---------------------------------------------------------------------------\u001b[0m",
            "\u001b[0;31mAttributeError\u001b[0m                            Traceback (most recent call last)",
            "\u001b[0;32m/tmp/ipython-input-4042028406.py\u001b[0m in \u001b[0;36m<cell line: 0>\u001b[0;34m()\u001b[0m\n\u001b[0;32m----> 1\u001b[0;31m \u001b[0mi_cp\u001b[0m \u001b[0;34m=\u001b[0m \u001b[0mi\u001b[0m\u001b[0;34m.\u001b[0m\u001b[0mget\u001b[0m\u001b[0;34m(\u001b[0m\u001b[0;34m)\u001b[0m\u001b[0;34m\u001b[0m\u001b[0;34m\u001b[0m\u001b[0m\n\u001b[0m\u001b[1;32m      2\u001b[0m \u001b[0mprint\u001b[0m\u001b[0;34m(\u001b[0m\u001b[0mi_cp\u001b[0m\u001b[0;34m)\u001b[0m\u001b[0;34m\u001b[0m\u001b[0;34m\u001b[0m\u001b[0m\n",
            "\u001b[0;31mAttributeError\u001b[0m: 'int' object has no attribute 'get'"
          ]
        }
      ]
    },
    {
      "cell_type": "code",
      "source": [
        "import cupy as cp\n",
        "import numpy as np\n",
        "\n",
        "kernel = cp.RawKernel(r'''\n",
        "extern \"C\" __global__\n",
        "void write_thread_ids(int* out_block, int* out_thread, int n) {\n",
        "    int i = blockDim.x * blockIdx.x + threadIdx.x;\n",
        "    if (i < n) {\n",
        "        out_block[i] = blockIdx.x;\n",
        "        out_thread[i] = threadIdx.x;\n",
        "    }\n",
        "}''', 'write_thread_ids')\n",
        "\n",
        "n = 1024\n",
        "\n",
        "out_thread = cp.empty(n, dtype=cp.int32)\n",
        "out_block = cp.empty(n, dtype=cp.int32)\n",
        "\n",
        "kernel((int(n/32),), (32,), (out_block, out_thread, n))\n",
        "\n",
        "# Copy back to host\n",
        "out_cpu_block = out_block.get()\n",
        "print(\"Block IDs:\", out_cpu_block)\n",
        "\n",
        "out_cpu_thread = out_thread.get()\n",
        "print(\"Thread IDs:\", out_cpu_thread)"
      ],
      "metadata": {
        "colab": {
          "base_uri": "https://localhost:8080/"
        },
        "id": "9irzypOnHDVl",
        "outputId": "7c2f14e3-2a66-4967-db0c-9c022a4b8591"
      },
      "execution_count": null,
      "outputs": [
        {
          "output_type": "stream",
          "name": "stdout",
          "text": [
            "Block IDs: [ 0  0  0 ... 31 31 31]\n",
            "Thread IDs: [ 0  1  2 ... 29 30 31]\n"
          ]
        }
      ]
    }
  ]
}